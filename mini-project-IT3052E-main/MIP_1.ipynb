{
  "cells": [
    {
      "cell_type": "code",
      "execution_count": 58,
      "metadata": {
        "id": "MYMldSJgb0vs"
      },
      "outputs": [],
      "source": [
        "!pip install -q pyomo"
      ]
    },
    {
      "cell_type": "code",
      "execution_count": 59,
      "metadata": {
        "id": "WzxTrSIpcC1S"
      },
      "outputs": [],
      "source": [
        "from pyomo.environ import *\n",
        "import itertools"
      ]
    },
    {
      "cell_type": "code",
      "execution_count": 60,
      "metadata": {
        "id": "ecbSjuT3cPKR"
      },
      "outputs": [],
      "source": [
        "def input(filename):\n",
        "    with open(filename) as f:\n",
        "        n, k = [int(x) for x in f.readline().split()]\n",
        "        d = [[int(x) for x  in f.readline().split()] for i in range(n + 1)]\n",
        "        for i in range(n+1):\n",
        "            d[i].append(d[i][0])\n",
        "        return n, k, d\n",
        "    \n",
        "n, k , d = input('/content/data1.txt')\n",
        "K = list(range(1,k+1))\n",
        "Nrow = list(range(n+1))\n",
        "Ncol = list(range(1,n+2))\n",
        "\n",
        "A = []\n",
        "for i in range(n+1):\n",
        "    for j in range(1,n+2):\n",
        "        if (i != j) and (i,j) != (0,n+1):\n",
        "            A.append([i,j])\n",
        "Ao = lambda x: [j for i, j in A if i == x]\n",
        "Ai = lambda x: [i for i, j in A if j == x]"
      ]
    },
    {
      "cell_type": "code",
      "execution_count": 62,
      "metadata": {
        "id": "WkkVa3qkcStw"
      },
      "outputs": [],
      "source": [
        "# Model\n",
        "model = ConcreteModel()\n",
        "\n",
        "# Decision variables\n",
        "model.x = Var(K, Nrow, Ncol, within=Binary)\n",
        "model.z = Var(within=NonNegativeReals)\n",
        "\n",
        "# Constraints\n",
        "model.cstr1 = ConstraintList()\n",
        "for i in range(1,n+1):\n",
        "    model.cstr1.add(sum(model.x[p,i,j] for p in K for j in Ao(i)) == 1)\n",
        "\n",
        "model.cstr2 = ConstraintList()\n",
        "for i in range(1,n+1):\n",
        "    for p in K:\n",
        "        model.cstr2.add(sum(model.x[p,i,j] for j in Ao(i)) - sum(model.x[p,j,i] for j in Ai(i)) == 0)\n",
        "\n",
        "model.cstr3 = ConstraintList()\n",
        "for p in K:\n",
        "    model.cstr3.add(sum(model.x[p,0,j] for j in Ao(0)) == 1) \n",
        "    model.cstr3.add(sum(model.x[p,i,n+1] for i in Ai(n+1)) == 1)\n",
        "    model.cstr3.add(sum(model.x[p,i,j]*d[i][j] for i,j in A) - model.z <= 0)\n",
        "  \n",
        "def findSubset(n,m):\n",
        "    lst = [int(i) for i in range(n)]\n",
        "    return set(itertools.combinations(lst,m))  \n",
        "model.cstr5 = ConstraintList()\n",
        "for p in K:\n",
        "    for length in range(2, n+1):\n",
        "        subs = findSubset(n+1,length)\n",
        "        for u in subs:\n",
        "            model.cstr5.add(sum(model.x[p,i,j] for i,j in A if (i in u) and (j in u)) <= length-1)\n",
        "\n",
        "                  \n",
        "# Objective\n",
        "def obj1(model):\n",
        "    return model.z\n",
        "model.obj1 = Objective(rule=obj1, sense=minimize)\n",
        "\n",
        "def obj2(model):\n",
        "    return sum(d[i][j]*model.x[k,i,j] for k in K for i,j in A) \n",
        "model.obj2 = Objective(rule=obj2, sense=minimize)\n",
        "\n",
        "# model.pprint()"
      ]
    },
    {
      "cell_type": "code",
      "execution_count": 63,
      "metadata": {
        "id": "uJO8g0KncXsz"
      },
      "outputs": [],
      "source": [
        "!apt-get install -y -qq glpk-utils"
      ]
    },
    {
      "cell_type": "code",
      "execution_count": 64,
      "metadata": {
        "id": "fJhT9yUMcb5V",
        "colab": {
          "base_uri": "https://localhost:8080/"
        },
        "outputId": "741976b5-3983-4747-e642-d2d7a2f97dc8"
      },
      "outputs": [
        {
          "output_type": "stream",
          "name": "stdout",
          "text": [
            "minimize the length of the longest tour\n",
            "f1 = 22.0\n",
            "f2 = 63.0\n"
          ]
        }
      ],
      "source": [
        "model.f1 = Var()\n",
        "model.f2 = Var()\n",
        "model.c1 = Constraint(expr = model.f1 == model.z)\n",
        "model.c2 = Constraint(expr = model.f2 == sum(d[i][j]*model.x[k,i,j] for k in K for i,j in A))\n",
        "\n",
        "# min obj1 separately\n",
        "model.obj2.deactivate()\n",
        "solver = SolverFactory('glpk', executable='/usr/bin/glpsol')  \n",
        "solver.solve(model)\n",
        "print('minimize the length of the longest tour')\n",
        "print('f1 = ' + str(value(model.f1)))\n",
        "print('f2 = ' + str(value(model.f2)))\n",
        "f1_min = value(model.f1)\n",
        "\n",
        "# min obj2 separately\n",
        "# model.obj1.deactivate()\n",
        "# model.obj2.activate()\n",
        "# solver = SolverFactory('glpk', executable='/usr/bin/glpsol')  \n",
        "# solver.solve(model)\n",
        "# f1_max = value(model.f1)\n",
        "# print('minimize the total cost of all vehicles routes')\n",
        "# print('f1 = ' + str(value(model.f1)))\n",
        "# print('f2 = ' + str(value(model.f2)))"
      ]
    },
    {
      "cell_type": "code",
      "source": [
        "model.cstr6 = ConstraintList()\n",
        "for p in K:\n",
        "    model.cstr6.add(sum(model.x[p,i,j]*d[i][j] for i,j in A) - f1_min <= 0)\n",
        "\n",
        "model.obj1.deactivate()\n",
        "model.obj2.activate()\n",
        "solver = SolverFactory('glpk', executable='/usr/bin/glpsol')  \n",
        "solver.solve(model)\n",
        "f2_min = value(model.f2)\n",
        "print('obj1 = ', f1_min, 'obj2 = ', f2_min)"
      ],
      "metadata": {
        "colab": {
          "base_uri": "https://localhost:8080/"
        },
        "id": "yWOT-RoSGHG8",
        "outputId": "f20d6b7c-4046-4db3-be70-31e455a2f903"
      },
      "execution_count": 65,
      "outputs": [
        {
          "output_type": "stream",
          "name": "stdout",
          "text": [
            "obj1 =  22.0 obj2 =  63.0\n"
          ]
        }
      ]
    },
    {
      "cell_type": "code",
      "source": [
        "def findNext(p,i):\n",
        "    for j in Ao(i):\n",
        "\t    if value(model.x[p,i,j]) > 0:\n",
        "\t\t    return j\n",
        "def route(p):\n",
        "    s = '0->'\n",
        "    i = findNext(p,0)\n",
        "    while i != n+1:\n",
        "        s = s + str(i) + '->'\n",
        "        i = findNext(p,i)\n",
        "    s = s + str(0)\n",
        "    return s\n",
        "    \n",
        "for p in K:\n",
        "    l = 0\n",
        "    print()\n",
        "    for i,j in A:\n",
        "        if value(model.x[p,i,j]) > 0:\n",
        "            l += d[i][j]\n",
        "            if j != n+1:\n",
        "\t            print('('+str(i)+'-'+str(j)+')')\n",
        "            else:\n",
        "                print('('+str(i)+'-'+str(j)+')')\t\n",
        "    print('Route[' + str(p) +']: '+ route(p), '\\nLength =', l)"
      ],
      "metadata": {
        "colab": {
          "base_uri": "https://localhost:8080/"
        },
        "id": "d1OuQTvtaBeB",
        "outputId": "98ad730b-6538-494a-cd1b-56a054ea8858"
      },
      "execution_count": 76,
      "outputs": [
        {
          "output_type": "stream",
          "name": "stdout",
          "text": [
            "\n",
            "(0-6)\n",
            "(4-8)\n",
            "(6-4)\n",
            "Route[1]: 0->6->4->0 \n",
            "Length = 22\n",
            "\n",
            "(0-7)\n",
            "(1-8)\n",
            "(2-1)\n",
            "(3-2)\n",
            "(7-3)\n",
            "Route[2]: 0->7->3->2->1->0 \n",
            "Length = 21\n",
            "\n",
            "(0-5)\n",
            "(5-8)\n",
            "Route[3]: 0->5->0 \n",
            "Length = 20\n"
          ]
        }
      ]
    },
    {
      "cell_type": "code",
      "source": [
        "# epsilon-constraint\n",
        "# MIN f2 - delta*s\n",
        "# constraint f1 - s == e\n",
        "# model.obj1.activate()\n",
        "# model.obj2.deactivate()\n",
        "\n",
        "# model.del_component(model.obj1)\n",
        "# model.del_component(model.obj2)\n",
        "\n",
        "# model.e = Param(initialize=0, mutable=True)\n",
        "# model.delta = Param(initialize=0.001)\n",
        "# model.slack = Var(within=NonNegativeReals)\n",
        "\n",
        "# model.obj1 = Objective(expr = model.f1 - model.delta * model.slack, sense=minimize)\n",
        "# model.C_e = Constraint(expr = model.f2 - model.slack == model.e)\n",
        "\n",
        "# steps = list(range(int(f1_min),int(f1_max)+1,1))\n",
        "# f1_l, f2_l = [], []\n",
        "# for i in steps:\n",
        "#     model.e = i\n",
        "#     solver.solve(model)\n",
        "#     f1_l.append(value(model.f1))\n",
        "#     f2_l.append(value(model.f2))"
      ],
      "metadata": {
        "id": "a55mJqjcka04"
      },
      "execution_count": 48,
      "outputs": []
    },
    {
      "cell_type": "code",
      "source": [
        "# import matplotlib.pyplot as plt"
      ],
      "metadata": {
        "id": "VBmf0iSUnWgR"
      },
      "execution_count": 50,
      "outputs": []
    },
    {
      "cell_type": "code",
      "source": [
        "# fig, (ax1, ax2) = plt.subplots(nrows=1, ncols=2, sharex=True, figsize=(8,8))\n",
        "\n",
        "# ax2.plot(f1_l, f2_l, 'o-', c='r', label='Pareto optimal front')\n",
        "# ax2.legend(loc='best')\n",
        "# ax2.set_xlabel('Objective function F1')\n",
        "# ax2.set_ylabel('Objective function F2')\n",
        "# ax2.grid(True)\n",
        "# fig.tight_layout()\n",
        "plt.show()"
      ],
      "metadata": {
        "colab": {
          "base_uri": "https://localhost:8080/",
          "height": 585
        },
        "id": "psiPAIYsnJLj",
        "outputId": "4c9c405c-255b-423d-a583-7fd6d54b2708"
      },
      "execution_count": 51,
      "outputs": [
        {
          "output_type": "display_data",
          "data": {
            "image/png": "[encoded data removed]",
            "text/plain": [
              "<Figure size 576x576 with 2 Axes>"
            ]
          },
          "metadata": {
            "needs_background": "light"
          }
        }
      ]
    }
  ],
  "metadata": {
    "colab": {
      "name": "MIP_1.ipynb",
      "provenance": []
    },
    "kernelspec": {
      "display_name": "Python 3",
      "name": "python3"
    },
    "language_info": {
      "name": "python"
    }
  },
  "nbformat": 4,
  "nbformat_minor": 0
}